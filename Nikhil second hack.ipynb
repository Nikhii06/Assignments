{
  "metadata": {
    "kernelspec": {
      "name": "python",
      "display_name": "Python (Pyodide)",
      "language": "python"
    },
    "language_info": {
      "codemirror_mode": {
        "name": "python",
        "version": 3
      },
      "file_extension": ".py",
      "mimetype": "text/x-python",
      "name": "python",
      "nbconvert_exporter": "python",
      "pygments_lexer": "ipython3",
      "version": "3.8"
    }
  },
  "nbformat_minor": 5,
  "nbformat": 4,
  "cells": [
    {
      "id": "9a570023-0413-45e1-91f5-6c5169d1539b",
      "cell_type": "code",
      "source": "import pandas as pd\nfrom sklearn.model_selection import train_test_split\nfrom sklearn.preprocessing import StandardScaler,RobustScaler\nfrom sklearn.ensemble import RandomForestClassifier\nfrom sklearn.metrics import classification_report\nfrom sklearn.experimental import enable_iterative_imputer\nfrom sklearn.impute import IterativeImputer\nfrom sklearn.impute import SimpleImputer,KNNImputer\n\n\ntrain_df = pd.read_csv('Train_Data.csv')\ntest_df = pd.read_csv('Test_Data.csv')\n\ntrain_df = train_df.dropna(subset=['age_group'])\n\ntrain_df['age_group'] = train_df['age_group'].map({'Adult': 0, 'Senior': 1})\n\ntrain_df = train_df.drop(columns=['SEQN'])\ntest_ids = test_df['SEQN']  # Save for submission\ntest_df = test_df.drop(columns=['SEQN'])\n\nimputer = IterativeImputer(random_state=0)\nX_train_imputed = imputer.fit_transform(train_df.drop(columns=['age_group']))\nX_test_imputed = imputer.transform(test_df)\n\nscaler = RobustScaler()\nX_train_scaled = scaler.fit_transform(X_train_imputed)\nX_test_scaled = scaler.transform(X_test_imputed)\n\ny_train = train_df['age_group']\n\nmodel = RandomForestClassifier(\n    n_estimators=500,\n    max_depth=None,\n    min_samples_leaf=4,\n    class_weight='balanced',\n    random_state=None\n)\nmodel.fit(X_train_scaled, y_train)\n\ntest_preds = model.predict(X_test_scaled)\n\nsubmission = pd.DataFrame({'age_group': test_preds.astype(int)})\nsubmission.to_csv('sample-submission.csv', index=False)\nprint(\"✅ Submission file 'sample-submission.csv' created successfully.\")\n",
      "metadata": {
        "trusted": true,
        "scrolled": true
      },
      "outputs": [
        {
          "name": "stdout",
          "output_type": "stream",
          "text": "✅ Submission file 'sample-submission.csv' created successfully.\n"
        }
      ],
      "execution_count": 23
    },
    {
      "id": "40716996-b195-434e-9b67-84d7a77341ef",
      "cell_type": "code",
      "source": "",
      "metadata": {
        "trusted": true
      },
      "outputs": [],
      "execution_count": null
    }
  ]
}