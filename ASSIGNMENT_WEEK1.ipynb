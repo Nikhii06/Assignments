{
  "metadata": {
    "kernelspec": {
      "name": "python",
      "display_name": "Python (Pyodide)",
      "language": "python"
    },
    "language_info": {
      "codemirror_mode": {
        "name": "python",
        "version": 3
      },
      "file_extension": ".py",
      "mimetype": "text/x-python",
      "name": "python",
      "nbconvert_exporter": "python",
      "pygments_lexer": "ipython3",
      "version": "3.8"
    }
  },
  "nbformat_minor": 5,
  "nbformat": 4,
  "cells": [
    {
      "id": "8ad80c5d-e328-4a78-9ea5-0ad8de619dff",
      "cell_type": "code",
      "source": "import numpy as np\nimport  pandas as pd #1\ndf=pd.read_csv(\"Cars.csv\")#2\n\nshape=df.shape\nprint(shape) #3\n\nlist_cols=df.columns\nprint(list_cols)#4\n\ndf.set_index(\"name\")#5\n\nlist_unique=df[\"mpg\"].unique()\nprint(list_unique)#6\n\ndf[\"metric\"]=df.horsepower/df.weight\ndf.set_index(\"metric\")#7\n\n\n",
      "metadata": {
        "trusted": true
      },
      "outputs": [
        {
          "name": "stdout",
          "output_type": "stream",
          "text": "(398, 9)\nIndex(['mpg', 'cylinders', 'displacement', 'horsepower', 'weight',\n       'acceleration', 'model_year', 'origin', 'name'],\n      dtype='object')\n[18.  15.  16.  17.  14.  24.  22.  21.  27.  26.  25.  10.  11.   9.\n 28.  19.  12.  13.  23.  30.  31.  35.  20.  29.  32.  33.  17.5 15.5\n 14.5 22.5 24.5 18.5 29.5 26.5 16.5 31.5 36.  25.5 33.5 20.5 30.5 21.5\n 43.1 36.1 32.8 39.4 19.9 19.4 20.2 19.2 25.1 20.6 20.8 18.6 18.1 17.7\n 27.5 27.2 30.9 21.1 23.2 23.8 23.9 20.3 21.6 16.2 19.8 22.3 17.6 18.2\n 16.9 31.9 34.1 35.7 27.4 25.4 34.2 34.5 31.8 37.3 28.4 28.8 26.8 41.5\n 38.1 32.1 37.2 26.4 24.3 19.1 34.3 29.8 31.3 37.  32.2 46.6 27.9 40.8\n 44.3 43.4 36.4 44.6 40.9 33.8 32.7 23.7 23.6 32.4 26.6 25.8 23.5 39.1\n 39.  35.1 32.3 37.7 34.7 34.4 29.9 33.7 32.9 31.6 28.1 30.7 24.2 22.4\n 34.  38.  44. ]\n"
        },
        {
          "execution_count": 12,
          "output_type": "execute_result",
          "data": {
            "text/plain": "           mpg  cylinders  displacement  horsepower  weight  acceleration  \\\nmetric                                                                      \n0.037100  18.0          8         307.0       130.0    3504          12.0   \n0.044679  15.0          8         350.0       165.0    3693          11.5   \n0.043655  18.0          8         318.0       150.0    3436          11.0   \n0.043694  16.0          8         304.0       150.0    3433          12.0   \n0.040591  17.0          8         302.0       140.0    3449          10.5   \n...        ...        ...           ...         ...     ...           ...   \n0.030824  27.0          4         140.0        86.0    2790          15.6   \n0.024413  44.0          4          97.0        52.0    2130          24.6   \n0.036601  32.0          4         135.0        84.0    2295          11.6   \n0.030095  28.0          4         120.0        79.0    2625          18.6   \n0.030147  31.0          4         119.0        82.0    2720          19.4   \n\n          model_year  origin                       name  \nmetric                                                   \n0.037100          70     usa  chevrolet chevelle malibu  \n0.044679          70     usa          buick skylark 320  \n0.043655          70     usa         plymouth satellite  \n0.043694          70     usa              amc rebel sst  \n0.040591          70     usa                ford torino  \n...              ...     ...                        ...  \n0.030824          82     usa            ford mustang gl  \n0.024413          82  europe                  vw pickup  \n0.036601          82     usa              dodge rampage  \n0.030095          82     usa                ford ranger  \n0.030147          82     usa                 chevy s-10  \n\n[398 rows x 9 columns]",
            "text/html": "<div>\n<style scoped>\n    .dataframe tbody tr th:only-of-type {\n        vertical-align: middle;\n    }\n\n    .dataframe tbody tr th {\n        vertical-align: top;\n    }\n\n    .dataframe thead th {\n        text-align: right;\n    }\n</style>\n<table border=\"1\" class=\"dataframe\">\n  <thead>\n    <tr style=\"text-align: right;\">\n      <th></th>\n      <th>mpg</th>\n      <th>cylinders</th>\n      <th>displacement</th>\n      <th>horsepower</th>\n      <th>weight</th>\n      <th>acceleration</th>\n      <th>model_year</th>\n      <th>origin</th>\n      <th>name</th>\n    </tr>\n    <tr>\n      <th>metric</th>\n      <th></th>\n      <th></th>\n      <th></th>\n      <th></th>\n      <th></th>\n      <th></th>\n      <th></th>\n      <th></th>\n      <th></th>\n    </tr>\n  </thead>\n  <tbody>\n    <tr>\n      <th>0.037100</th>\n      <td>18.0</td>\n      <td>8</td>\n      <td>307.0</td>\n      <td>130.0</td>\n      <td>3504</td>\n      <td>12.0</td>\n      <td>70</td>\n      <td>usa</td>\n      <td>chevrolet chevelle malibu</td>\n    </tr>\n    <tr>\n      <th>0.044679</th>\n      <td>15.0</td>\n      <td>8</td>\n      <td>350.0</td>\n      <td>165.0</td>\n      <td>3693</td>\n      <td>11.5</td>\n      <td>70</td>\n      <td>usa</td>\n      <td>buick skylark 320</td>\n    </tr>\n    <tr>\n      <th>0.043655</th>\n      <td>18.0</td>\n      <td>8</td>\n      <td>318.0</td>\n      <td>150.0</td>\n      <td>3436</td>\n      <td>11.0</td>\n      <td>70</td>\n      <td>usa</td>\n      <td>plymouth satellite</td>\n    </tr>\n    <tr>\n      <th>0.043694</th>\n      <td>16.0</td>\n      <td>8</td>\n      <td>304.0</td>\n      <td>150.0</td>\n      <td>3433</td>\n      <td>12.0</td>\n      <td>70</td>\n      <td>usa</td>\n      <td>amc rebel sst</td>\n    </tr>\n    <tr>\n      <th>0.040591</th>\n      <td>17.0</td>\n      <td>8</td>\n      <td>302.0</td>\n      <td>140.0</td>\n      <td>3449</td>\n      <td>10.5</td>\n      <td>70</td>\n      <td>usa</td>\n      <td>ford torino</td>\n    </tr>\n    <tr>\n      <th>...</th>\n      <td>...</td>\n      <td>...</td>\n      <td>...</td>\n      <td>...</td>\n      <td>...</td>\n      <td>...</td>\n      <td>...</td>\n      <td>...</td>\n      <td>...</td>\n    </tr>\n    <tr>\n      <th>0.030824</th>\n      <td>27.0</td>\n      <td>4</td>\n      <td>140.0</td>\n      <td>86.0</td>\n      <td>2790</td>\n      <td>15.6</td>\n      <td>82</td>\n      <td>usa</td>\n      <td>ford mustang gl</td>\n    </tr>\n    <tr>\n      <th>0.024413</th>\n      <td>44.0</td>\n      <td>4</td>\n      <td>97.0</td>\n      <td>52.0</td>\n      <td>2130</td>\n      <td>24.6</td>\n      <td>82</td>\n      <td>europe</td>\n      <td>vw pickup</td>\n    </tr>\n    <tr>\n      <th>0.036601</th>\n      <td>32.0</td>\n      <td>4</td>\n      <td>135.0</td>\n      <td>84.0</td>\n      <td>2295</td>\n      <td>11.6</td>\n      <td>82</td>\n      <td>usa</td>\n      <td>dodge rampage</td>\n    </tr>\n    <tr>\n      <th>0.030095</th>\n      <td>28.0</td>\n      <td>4</td>\n      <td>120.0</td>\n      <td>79.0</td>\n      <td>2625</td>\n      <td>18.6</td>\n      <td>82</td>\n      <td>usa</td>\n      <td>ford ranger</td>\n    </tr>\n    <tr>\n      <th>0.030147</th>\n      <td>31.0</td>\n      <td>4</td>\n      <td>119.0</td>\n      <td>82.0</td>\n      <td>2720</td>\n      <td>19.4</td>\n      <td>82</td>\n      <td>usa</td>\n      <td>chevy s-10</td>\n    </tr>\n  </tbody>\n</table>\n<p>398 rows × 9 columns</p>\n</div>"
          },
          "metadata": {}
        }
      ],
      "execution_count": 12
    },
    {
      "id": "d2922e9e-f4f9-42d4-9437-8216bfbcff95",
      "cell_type": "code",
      "source": "#Graded\nimport numpy as np\nimport  pandas as pd\ndf=pd.read_csv(\"Cars.csv\")\n\n\ni=df.horsepower.max()\nname=df.loc[df['horsepower'] == i, 'name']\nprint(name) #1\n\ncount = (df['mpg'] >= 35).sum()\nprint(count)\n\nndf=df[(df['horsepower']>100) & (df.weight<3000)]\nmost=ndf.origin.mode()[0]\nprint(most) #3\n\nnof=df[(df['origin'] == \"japan\")]\nmean_acc=round(nof.acceleration.mean(),2)\nprint(mean_acc) #4\n\n\nHigh=df.groupby('model_year')['mpg'].mean().idxmax()\nprint(High)#5\n",
      "metadata": {
        "trusted": true
      },
      "outputs": [
        {
          "name": "stdout",
          "output_type": "stream",
          "text": "116    pontiac grand prix\nName: name, dtype: object\n36\nusa\n16.17\n80\n"
        }
      ],
      "execution_count": 3
    },
    {
      "id": "4a31c6df-9fd6-4c71-a717-c4df5bf95bce",
      "cell_type": "code",
      "source": "#Ungraded\nimport numpy as np\nimport  pandas as pd\ndf=pd.read_csv(\"Cars.csv\")\n\nmed=df[\"mpg\"].median()\ndf[\"metric\"]=df.horsepower/df.weight\nnew=df[df[\"mpg\"]>med]\nhigh=new.metric.max()\nname=new[new[\"metric\"] == high].name\nprint(name)",
      "metadata": {
        "trusted": true
      },
      "outputs": [
        {
          "name": "stdout",
          "output_type": "stream",
          "text": "23    bmw 2002\nName: name, dtype: object\n"
        }
      ],
      "execution_count": 43
    },
    {
      "id": "5393c535-1f74-47bf-89b1-93f38ae63e1b",
      "cell_type": "code",
      "source": "",
      "metadata": {
        "trusted": true
      },
      "outputs": [],
      "execution_count": null
    }
  ]
}